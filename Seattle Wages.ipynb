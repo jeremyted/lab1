{
 "cells": [
  {
   "cell_type": "markdown",
   "metadata": {},
   "source": [
    "# Lab 1 - Seattle Wages and ages"
   ]
  },
  {
   "cell_type": "markdown",
   "metadata": {},
   "source": [
    "##### Mauricio Garcia 9/20/19"
   ]
  },
  {
   "cell_type": "markdown",
   "metadata": {},
   "source": [
    "## Abstract\n"
   ]
  },
  {
   "cell_type": "markdown",
   "metadata": {},
   "source": [
    "\n",
    " * Through this lab, I walk through the different ways to prepare a data set for analysis. \n",
    " * The order of analyis began with the preparation of data, where the file to be analyzed is opened and a portion of it is then selected to conduct research.\n",
    " * After collecting some pieces of specific data, I come up with a conclusion and a couple of questions that could be considered for further research.\n",
    " * All in all, this lab is an examinatiton of the ages and wages from Seattle City's payroll. In th end, it is found that the range for both the wages and ages are very far apart and on both ends of the spectrum, outliers appear.\n",
    " "
   ]
  },
  {
   "cell_type": "markdown",
   "metadata": {},
   "source": [
    "# Dataset Preparation"
   ]
  },
  {
   "cell_type": "markdown",
   "metadata": {},
   "source": [
    "where, dataset was obtained, last updated, created, sample size, etc. "
   ]
  },
  {
   "cell_type": "markdown",
   "metadata": {},
   "source": [
    "In the code below, I am opening and showing the first 5 entries from a file and reading it into this Jupyter notebook to read later."
   ]
  },
  {
   "cell_type": "code",
   "execution_count": 27,
   "metadata": {},
   "outputs": [
    {
     "name": "stdout",
     "output_type": "stream",
     "text": [
      "['Race/Ethnicity,Sex,Department,Age,Hourly Rate,Regular/Temporary,Employee Status\\n', 'Hispanic or Latino,M,Municipal Court,57,29.75,R,A\\n', 'Hispanic or Latino,F,Municipal Court,39,27.18,R,A\\n', 'Hispanic or Latino,M,Police Department,52,59.75,R,A\\n', 'Hispanic or Latino,M,Fire Department,30,38.28,R,A\\n']\n"
     ]
    }
   ],
   "source": [
    "# open the file\n",
    "\n",
    "data_file = open(\"City_of_Seattle_Staff_Demographics.csv\", \"r\");\n",
    "\n",
    "\n",
    "Demographics_List = [];\n",
    "\n",
    "#put all lines from the file into a list\n",
    "for row in data_file:\n",
    "    Demographics_List.append(row);\n",
    "    \n",
    "#close the file. It's the courteous and clean thing to do\n",
    "data_file.close();\n",
    "\n",
    "# show the first five items in the list. Notice that they are all strings\n",
    "# the \\n part of the string means \"newline\" - its the symbol that represents the end of a line\n",
    "print(Demographics_List[:5]);\n"
   ]
  },
  {
   "cell_type": "markdown",
   "metadata": {},
   "source": [
    "Now, I am going to organize all the entries in this file and organize them by columns and rows"
   ]
  },
  {
   "cell_type": "code",
   "execution_count": null,
   "metadata": {},
   "outputs": [],
   "source": [
    "#remove the first element (column header)\n",
    "# the header is useful for telling us what the columns mean, \n",
    "# but you don't want to include it in your mathematical calculations\n",
    "del Demographics_List[0];\n",
    "\n",
    "# create two empty lists - one for ages and one for wages data\n",
    "# we want to make a list of just the age data and just the wage data\n",
    "ages = [];\n",
    "wages = [];  \n",
    "\n",
    "# loop (go through every row one by one) through the original Demographics_List\n",
    "for item in range(len(Demographics_List)):\n",
    "    \n",
    "    # this line is a bit confusing, but what it is doing is splitting out each comma separated item \n",
    "    # from a row and turning it into a list \n",
    "    # into 7 seperate strings 'ethnicity' 'Sex' \"department\" \"age\" 'hourly wage' 'regular or temporary' 'active status'\n",
    "    # After being split, the seven separate strings are then stored in another list called Demograhpics_List\n",
    "    Demographics_row = Demographics_List[item].split(\",\")\n",
    "    \n",
    "    #now that we've split the row into its two parts, we can pick and choose \n",
    "    # add the third and the fourth to specific lists for ages and wages\n",
    "    ages.append(int(Demographics_row[3]))\n",
    "    wages.append(float(Demographics_row[4]))\n",
    "8\n",
    "print(\"List of just the ages data:\")\n",
    "print(ages[:10])\n",
    "print(\"\\nList of just the wages data:\")\n",
    "print(wages[:10])"
   ]
  },
  {
   "cell_type": "markdown",
   "metadata": {},
   "source": [
    "Now we have two columns of data in seperate lists, ages in one and wages in another list. They are ready for proccessing."
   ]
  },
  {
   "cell_type": "markdown",
   "metadata": {},
   "source": [
    "# Data Analysis and Conclusions"
   ]
  },
  {
   "cell_type": "markdown",
   "metadata": {},
   "source": [
    "Next, I calculated the range of the ages and then the wages. Here is the wage range:"
   ]
  },
  {
   "cell_type": "code",
   "execution_count": 31,
   "metadata": {},
   "outputs": [
    {
     "name": "stdout",
     "output_type": "stream",
     "text": [
      "the wage range is from 5.53 to 162.8353 dollars\n"
     ]
    }
   ],
   "source": [
    "# finding the minimum and maximum numbers in a list is easy - you just call functions min and max\n",
    "minNbr = min(wages)\n",
    "maxNbr = max(wages)\n",
    "print(\"the wage range is from\", minNbr, \"to\", maxNbr, \"dollars\")"
   ]
  },
  {
   "cell_type": "markdown",
   "metadata": {},
   "source": [
    "And here is the age range:"
   ]
  },
  {
   "cell_type": "code",
   "execution_count": 32,
   "metadata": {},
   "outputs": [
    {
     "name": "stdout",
     "output_type": "stream",
     "text": [
      "The age range is from 14 to 92\n"
     ]
    }
   ],
   "source": [
    "minNbr = min(ages)\n",
    "maxNbr = max(ages)\n",
    "print(\"The age range is from\", minNbr, \"to\", maxNbr)"
   ]
  },
  {
   "cell_type": "markdown",
   "metadata": {},
   "source": [
    "A couple of questions jump out as I take a look at this data set. \n",
    "\n",
    "- What occupations could a 14 year old and 92 year old be possibly occupied in?\n",
    "- Why would someone be paid below minimum wage and still be included on Seattle's payroll?\n",
    "\n",
    "I do find it interesting that when taking the extremes of a data set, a couple of odd things can pop up. My assumption for the outliers in this dataset are that the 14 year old likely works inside something like a community service location, library,or soething along those lines.\n",
    "\n",
    "As for the 92 year old, my assumption is that they have been engaged in trade for a majority and simply continue to work. It does bring a couple of questions with it as well however:\n",
    "\n",
    "- How long has this person been working for?\n",
    "- Has this been the only job in which this indivdual has been involevd with?\n",
    "- Does this person plan on retitring after a certain point?\n",
    "\n",
    "Basically, after completing this lab, I realize there are even more questions I have, and this opens up oppurtunities for further exploration"
   ]
  },
  {
   "cell_type": "markdown",
   "metadata": {},
   "source": [
    "# Acknowledgements"
   ]
  },
  {
   "cell_type": "markdown",
   "metadata": {},
   "source": [
    "I want to thank Tracey Sconyers, Mark Fishman and Theo for helping me on my code to make sure things run and operate appropriately. I wouldn't have been able to do this without their help."
   ]
  },
  {
   "cell_type": "code",
   "execution_count": null,
   "metadata": {},
   "outputs": [],
   "source": []
  }
 ],
 "metadata": {
  "kernelspec": {
   "display_name": "Python 3",
   "language": "python",
   "name": "python3"
  },
  "language_info": {
   "codemirror_mode": {
    "name": "ipython",
    "version": 3
   },
   "file_extension": ".py",
   "mimetype": "text/x-python",
   "name": "python",
   "nbconvert_exporter": "python",
   "pygments_lexer": "ipython3",
   "version": "3.7.3"
  }
 },
 "nbformat": 4,
 "nbformat_minor": 2
}
